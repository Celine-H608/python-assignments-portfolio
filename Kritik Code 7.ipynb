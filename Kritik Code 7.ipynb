{
 "cells": [
  {
   "cell_type": "code",
   "execution_count": 2,
   "id": "d9f3edec",
   "metadata": {},
   "outputs": [],
   "source": [
    "#First let's copy in the provided functions and import necessary\n",
    "#packages: \n",
    "\n",
    "import numpy as np\n",
    "from scipy.special import gamma\n",
    "\n",
    "def t_distribution_pdf(x, nu):\n",
    "    \"\"\"\n",
    "    Compute the probability density of the t-distribution\n",
    "    at a given point x with nu degrees of freedom.\n",
    "    Parameters:\n",
    "    x (float): The point at which to evaluate the density.\n",
    "    nu (int): The degrees of freedom of the t-distribution.\n",
    "    Returns:\n",
    "    density (float): The probability density at point x for\n",
    "    the t-distribution with nu degrees of freedom.\n",
    "    \"\"\"\n",
    "    coeff = gamma((nu + 1) / 2) / (np.sqrt(nu * np.pi) * gamma(nu / 2))\n",
    "    density = coeff * (1 + x**2 / nu) ** (-0.5 * (nu + 1))\n",
    "    return density"
   ]
  },
  {
   "cell_type": "code",
   "execution_count": 3,
   "id": "9472f66b",
   "metadata": {},
   "outputs": [],
   "source": [
    "#(i) Compute mean and st.dev of a list using the given formulas. \n",
    "\n",
    "def mean(my_list): #here, my_list is a list\n",
    "    return (sum(my_list))/len(my_list) #returns the sum divided by the lenght\n",
    "\n",
    "def stdev(my_list): \n",
    "    new_list=[] #create an empty list\n",
    "    mean=(sum(my_list))/len(my_list) #recalculate the mean\n",
    "    for i in my_list: \n",
    "        new_list.append((i-mean)**2) #subtract the mean from each entry and square\n",
    "        \n",
    "    return np.sqrt((sum(new_list))/(len(new_list)-1)) #make sure you divide by n-1 not n"
   ]
  },
  {
   "cell_type": "code",
   "execution_count": 15,
   "id": "eeecef02",
   "metadata": {},
   "outputs": [],
   "source": [
    "#(ii) Compute the t_0 value using the previous two functions\n",
    "#your function needs to take in a value of mu_0 and either\n",
    "#the outputs of the above functions, or compute them inside the function\n",
    "\n",
    "def find_t_0(my_list, mu_0):\n",
    "    numerator = (mean(my_list)-mu_0)\n",
    "    denominator = (stdev(my_list)/np.sqrt(len(my_list)))\n",
    "    \n",
    "    return numerator/denominator \n",
    "\n",
    "\n"
   ]
  },
  {
   "cell_type": "code",
   "execution_count": 12,
   "id": "3b8c3e13",
   "metadata": {},
   "outputs": [
    {
     "name": "stdout",
     "output_type": "stream",
     "text": [
      "2.2522252225222523\n"
     ]
    }
   ],
   "source": [
    "#(iii) Find the t* value using the provided function: \n",
    "\n",
    "def find_t_star(prob, nu, x_start=0, x_end=20, num_points=10000):\n",
    "    \"\"\"\n",
    "    Find the t-value t* for a given cumulative probability\n",
    "    and degrees of freedom.\n",
    "\n",
    "    Parameters:\n",
    "    prob (float): The cumulative probability (between 0 and 1).\n",
    "    \n",
    "    nu (int): The degrees of freedom of the t-distribution.\n",
    "    x_start (float): The start point for numerical integration.\n",
    "    \n",
    "    x_end (float): The end point for numerical integration. \n",
    "    20 will almost always be big enough.\n",
    "    \n",
    "    num_points (int): The number of points to use in\n",
    "    the numerical integration.\n",
    "\n",
    "    Returns:\n",
    "    float: The t-value t* such that the area between [-t*, t*] \n",
    "    equals the given probability.\n",
    "    \"\"\"\n",
    "    # Define the x values\n",
    "    x = np.linspace(x_start, x_end, num_points)\n",
    "    # Apply the density function to the x values\n",
    "    y = t_distribution_pdf(x, nu)\n",
    "    # This next line is the integration (exercise: why does this work?)\n",
    "    cdf = np.cumsum(y) * (x[1] - x[0])\n",
    "    \n",
    "    # Find the t-value where the cumulative probability reaches half of the \n",
    "    #required probability\n",
    "    target_half_prob = prob / 2\n",
    "    index = np.where(cdf >= target_half_prob)[0][0]\n",
    "    return x[index] \n",
    "\n",
    "#The provided data is : \n",
    "\n",
    "scores=[92.64,79.00,84.79,97.41,93.68,65.23,84.50,73.49,73.97,79.11]\n",
    "\n",
    "#my degrees of freedom is n-1 for n=sample size, so \n",
    "\n",
    "nu=len(scores)-1\n",
    "\n",
    "#so t_star is\n",
    "\n",
    "t_star=find_t_star(0.95,nu)\n",
    "print(t_star)"
   ]
  },
  {
   "cell_type": "code",
   "execution_count": 19,
   "id": "977aa140",
   "metadata": {},
   "outputs": [],
   "source": [
    "#(iv) Write a function that checks if t_0 is in the interval [-t* , t*]\n",
    "#Note: t_0 is in the interval iff |t_0|<=t*\n",
    "\n",
    "def interval_check(t_0, t_star):\n",
    "    return np.abs(t_0)<= t_star"
   ]
  },
  {
   "cell_type": "code",
   "execution_count": 21,
   "id": "7fe6cce8",
   "metadata": {},
   "outputs": [
    {
     "name": "stdout",
     "output_type": "stream",
     "text": [
      "t_0 is  2.290087686017293\n",
      "t_star is  2.2522252225222523\n",
      "Is t_0 in the interval [-t_star,t_star]?  False\n"
     ]
    }
   ],
   "source": [
    "#(v)Let's put it all together using the data and mu_0=75\n",
    "\n",
    "\n",
    "scores=[92.64,79.00,84.79,97.41,93.68,65.23,84.50,73.49,73.97,79.11]\n",
    "mu_0=75\n",
    "nu=len(scores)-1\n",
    "\n",
    "#compute t_0\n",
    "t_0= find_t_0(scores,mu_0)\n",
    "print(\"t_0 is \",t_0)\n",
    "\n",
    "#compute t_star\n",
    "t_star=find_t_star(0.95,nu)\n",
    "print(\"t_star is \", t_star)\n",
    "\n",
    "#compare t_0 and t_star\n",
    "truth_value=interval_check(t_0,t_star)\n",
    "print(\"Is t_0 in the interval [-t_star,t_star]? \", truth_value)\n",
    "\n"
   ]
  },
  {
   "cell_type": "markdown",
   "id": "1ebcb600",
   "metadata": {},
   "source": [
    "#### Observations:\n",
    "\n",
    "The t_0 value is larger than t_star, so this suggests that the null hypothesis is not true, and that the alternate hypothesis, that $\\mu\\neq 75$ may be true. In particular, since the observed mean is higher than expected, it suggest that there is some benefit to this teaching method, i.e. that the new technique may shift the average higher than the national average. "
   ]
  },
  {
   "cell_type": "code",
   "execution_count": null,
   "id": "1b265452",
   "metadata": {},
   "outputs": [],
   "source": []
  }
 ],
 "metadata": {
  "kernelspec": {
   "display_name": "Python 3 (ipykernel)",
   "language": "python",
   "name": "python3"
  },
  "language_info": {
   "codemirror_mode": {
    "name": "ipython",
    "version": 3
   },
   "file_extension": ".py",
   "mimetype": "text/x-python",
   "name": "python",
   "nbconvert_exporter": "python",
   "pygments_lexer": "ipython3",
   "version": "3.11.4"
  }
 },
 "nbformat": 4,
 "nbformat_minor": 5
}
