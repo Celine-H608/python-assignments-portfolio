{
 "cells": [
  {
   "cell_type": "code",
   "execution_count": 2,
   "id": "d9f3edec",
   "metadata": {},
   "outputs": [],
   "source": [
    "\n",
    "\n",
    "import numpy as np\n",
    "from scipy.special import gamma\n",
    "\n",
    "def t_distribution_pdf(x, nu):\n",
    "    \"\"\"\n",
    "    Compute the probability density of the t-distribution\n",
    "    at a given point x with nu degrees of freedom.\n",
    "    Parameters:\n",
    "    x (float): The point at which to evaluate the density.\n",
    "    nu (int): The degrees of freedom of the t-distribution.\n",
    "    Returns:\n",
    "    density (float): The probability density at point x for\n",
    "    the t-distribution with nu degrees of freedom.\n",
    "    \"\"\"\n",
    "    coeff = gamma((nu + 1) / 2) / (np.sqrt(nu * np.pi) * gamma(nu / 2))\n",
    "    density = coeff * (1 + x**2 / nu) ** (-0.5 * (nu + 1))\n",
    "    return density"
   ]
  },
  {
   "cell_type": "code",
   "execution_count": 3,
   "id": "9472f66b",
   "metadata": {},
   "outputs": [],
   "source": [
    " \n",
    "\n",
    "def mean(my_list): \n",
    "    return (sum(my_list))/len(my_list)\n",
    "\n",
    "def stdev(my_list): \n",
    "    new_list=[] \n",
    "    mean=(sum(my_list))/len(my_list) \n",
    "    for i in my_list: \n",
    "        new_list.append((i-mean)**2) \n",
    "        \n",
    "    return np.sqrt((sum(new_list))/(len(new_list)-1)) \n",
    "    n-1 not n"
   ]
  },
  {
   "cell_type": "code",
   "execution_count": 15,
   "id": "eeecef02",
   "metadata": {},
   "outputs": [],
   "source": [
    "\n",
    "\n",
    "def find_t_0(my_list, mu_0):\n",
    "    numerator = (mean(my_list)-mu_0)\n",
    "    denominator = (stdev(my_list)/np.sqrt(len(my_list)))\n",
    "    \n",
    "    return numerator/denominator \n",
    "\n",
    "\n"
   ]
  },
  {
   "cell_type": "code",
   "execution_count": 12,
   "id": "3b8c3e13",
   "metadata": {},
   "outputs": [
    {
     "name": "stdout",
     "output_type": "stream",
     "text": [
      "2.2522252225222523\n"
     ]
    }
   ],
   "source": [
    " \n",
    "\n",
    "def find_t_star(prob, nu, x_start=0, x_end=20, num_points=10000):\n",
    "    \"\"\"\n",
    "    Find the t-value t* for a given cumulative probability\n",
    "    and degrees of freedom.\n",
    "\n",
    "    Parameters:\n",
    "    prob (float): The cumulative probability (between 0 and 1).\n",
    "    \n",
    "    nu (int): The degrees of freedom of the t-distribution.\n",
    "    x_start (float): The start point for numerical integration.\n",
    "    \n",
    "    x_end (float): The end point for numerical integration. \n",
    "    20 will almost always be big enough.\n",
    "    \n",
    "    num_points (int): The number of points to use in\n",
    "    the numerical integration.\n",
    "\n",
    "    Returns:\n",
    "    float: The t-value t* such that the area between [-t*, t*] \n",
    "    equals the given probability.\n",
    "    \"\"\"\n",
    "    \n",
    "    x = np.linspace(x_start, x_end, num_points)\n",
    "  \n",
    "    y = t_distribution_pdf(x, nu)\n",
    "    \n",
    "    cdf = np.cumsum(y) * (x[1] - x[0])\n",
    "    \n",
    "    \n",
    "    target_half_prob = prob / 2\n",
    "    index = np.where(cdf >= target_half_prob)[0][0]\n",
    "    return x[index] \n",
    "\n",
    "\n",
    "\n",
    "scores=[92.64,79.00,84.79,97.41,93.68,65.23,84.50,73.49,73.97,79.11]\n",
    "\n",
    "\n",
    "\n",
    "nu=len(scores)-1\n",
    "\n",
    "\n",
    "\n",
    "t_star=find_t_star(0.95,nu)\n",
    "print(t_star)"
   ]
  },
  {
   "cell_type": "code",
   "execution_count": 19,
   "id": "977aa140",
   "metadata": {},
   "outputs": [],
   "source": [
    "\n",
    "\n",
    "def interval_check(t_0, t_star):\n",
    "    return np.abs(t_0)<= t_star"
   ]
  },
  {
   "cell_type": "code",
   "execution_count": 21,
   "id": "7fe6cce8",
   "metadata": {},
   "outputs": [
    {
     "name": "stdout",
     "output_type": "stream",
     "text": [
      "t_0 is  2.290087686017293\n",
      "t_star is  2.2522252225222523\n",
      "Is t_0 in the interval [-t_star,t_star]?  False\n"
     ]
    }
   ],
   "source": [
    "\n",
    "\n",
    "\n",
    "scores=[92.64,79.00,84.79,97.41,93.68,65.23,84.50,73.49,73.97,79.11]\n",
    "mu_0=75\n",
    "nu=len(scores)-1\n",
    "\n",
    "\n",
    "t_0= find_t_0(scores,mu_0)\n",
    "print(\"t_0 is \",t_0)\n",
    "\n",
    "\n",
    "t_star=find_t_star(0.95,nu)\n",
    "print(\"t_star is \", t_star)\n",
    "\n",
    "truth_value=interval_check(t_0,t_star)\n",
    "print(\"Is t_0 in the interval [-t_star,t_star]? \", truth_value)\n",
    "\n"
   ]
  },
  {
   "cell_type": "markdown",
   "id": "1ebcb600",
   "metadata": {},
   "source": ""
  },
  {
   "cell_type": "code",
   "execution_count": null,
   "id": "1b265452",
   "metadata": {},
   "outputs": [],
   "source": []
  }
 ],
 "metadata": {
  "kernelspec": {
   "display_name": "Python 3 (ipykernel)",
   "language": "python",
   "name": "python3"
  },
  "language_info": {
   "codemirror_mode": {
    "name": "ipython",
    "version": 3
   },
   "file_extension": ".py",
   "mimetype": "text/x-python",
   "name": "python",
   "nbconvert_exporter": "python",
   "pygments_lexer": "ipython3",
   "version": "3.11.4"
  }
 },
 "nbformat": 4,
 "nbformat_minor": 5
}
