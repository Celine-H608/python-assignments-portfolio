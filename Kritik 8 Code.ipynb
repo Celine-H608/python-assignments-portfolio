{
 "cells": [
  {
   "cell_type": "code",
   "id": "initial_id",
   "metadata": {
    "collapsed": true,
    "jupyter": {
     "is_executing": true
    }
   },
   "source": [
    "import sympy as sp\n",
    "import numpy as np\n",
    "import matplotlib.pyplot as plt\n",
    "\n",
    "\n",
    "x, y = sp.symbols('x y')\n",
    "f = sp.exp(x) * sp.sin(y) + y**3\n",
    "df_dx = sp.diff(f, x)\n",
    "df_dy = sp.diff(f, y)\n",
    "\n",
    "\n",
    "g = x**2 * y + x * y**2\n",
    "grad_g = [sp.diff(g, x), sp.diff(g, y)]\n",
    "magnitude = sp.sqrt(grad_g[0].subs({x: 1, y: -1})**2 + grad_g[1].subs({x: 1, y: -1})**2)\n",
    "\n",
    "\n",
    "h = sp.ln(x**2 + y**2)\n",
    "d2h_dx2 = sp.diff(h, x, x)\n",
    "d2h_dy2 = sp.diff(h, y, y)\n",
    "d2h_dxdy = sp.diff(h, x, y)\n",
    "\n",
    "\n",
    "j = x**3 - 3*x*y + y**3\n",
    "j_func = sp.lambdify((x, y), j, 'numpy')\n",
    "x_vals = np.linspace(-3, 3, 400)\n",
    "y_vals = np.linspace(-3, 3, 400)\n",
    "X, Y = np.meshgrid(x_vals, y_vals)\n",
    "Z = j_func(X, Y)\n",
    "plt.contourf(X, Y, Z, levels=50, cmap='viridis')\n",
    "plt.colorbar()\n",
    "plt.title('Contour plot of $j(x, y) = x^3 - 3xy + y^3$')\n",
    "plt.xlabel('$x$')\n",
    "plt.ylabel('$y$')\n",
    "plt.show()\n",
    "\n",
    "\n",
    "def custom_function(x, y):\n",
    "    return sp.sin(x) * sp.cos(y) + x**2 - y**2\n",
    "\n",
    "custom_j = custom_function(x, y)\n",
    "custom_j_func = sp.lambdify((x, y), custom_j, 'numpy')\n",
    "Z_custom = custom_j_func(X, Y)\n",
    "plt.contourf(X, Y, Z_custom, levels=50, cmap='plasma')\n",
    "plt.colorbar()\n",
    "plt.title('Contour plot of Custom Function')\n",
    "plt.xlabel('$x$')\n",
    "plt.ylabel('$y$')\n",
    "plt.show()\n"
   ],
   "outputs": [],
   "execution_count": null
  },
  {
   "metadata": {},
   "cell_type": "code",
   "outputs": [],
   "execution_count": null,
   "source": "",
   "id": "79af58c05052fbba"
  }
 ],
 "metadata": {
  "kernelspec": {
   "display_name": "Python 3",
   "language": "python",
   "name": "python3"
  },
  "language_info": {
   "codemirror_mode": {
    "name": "ipython",
    "version": 2
   },
   "file_extension": ".py",
   "mimetype": "text/x-python",
   "name": "python",
   "nbconvert_exporter": "python",
   "pygments_lexer": "ipython2",
   "version": "2.7.6"
  }
 },
 "nbformat": 4,
 "nbformat_minor": 5
}
